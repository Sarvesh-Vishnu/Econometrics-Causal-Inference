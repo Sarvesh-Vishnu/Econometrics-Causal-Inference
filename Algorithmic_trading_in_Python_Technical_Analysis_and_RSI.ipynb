{
  "nbformat": 4,
  "nbformat_minor": 0,
  "metadata": {
    "colab": {
      "name": "Algorithmic trading in python: Technical Analysis and RSI",
      "provenance": [],
      "collapsed_sections": []
    },
    "kernelspec": {
      "name": "python3",
      "display_name": "Python 3"
    },
    "language_info": {
      "name": "python"
    }
  },
  "cells": [
    {
      "cell_type": "code",
      "metadata": {
        "colab": {
          "base_uri": "https://localhost:8080/"
        },
        "id": "RoEEKMSA_DRn",
        "outputId": "115f8b3b-d85a-4aa7-8894-6add61c16a14"
      },
      "source": [
        "# Installing Packages \n",
        "\n",
        "!pip install numpy \n",
        "!pip install pandas \n",
        "!pip install yfinance \n",
        "!pip install matplotlib"
      ],
      "execution_count": null,
      "outputs": [
        {
          "output_type": "stream",
          "text": [
            "Requirement already satisfied: numpy in /usr/local/lib/python3.7/dist-packages (1.19.5)\n",
            "Requirement already satisfied: pandas in /usr/local/lib/python3.7/dist-packages (1.1.5)\n",
            "Requirement already satisfied: pytz>=2017.2 in /usr/local/lib/python3.7/dist-packages (from pandas) (2018.9)\n",
            "Requirement already satisfied: python-dateutil>=2.7.3 in /usr/local/lib/python3.7/dist-packages (from pandas) (2.8.1)\n",
            "Requirement already satisfied: numpy>=1.15.4 in /usr/local/lib/python3.7/dist-packages (from pandas) (1.19.5)\n",
            "Requirement already satisfied: six>=1.5 in /usr/local/lib/python3.7/dist-packages (from python-dateutil>=2.7.3->pandas) (1.15.0)\n",
            "Collecting yfinance\n",
            "  Downloading https://files.pythonhosted.org/packages/a7/ee/315752b9ef281ba83c62aa7ec2e2074f85223da6e7e74efb4d3e11c0f510/yfinance-0.1.59.tar.gz\n",
            "Requirement already satisfied: pandas>=0.24 in /usr/local/lib/python3.7/dist-packages (from yfinance) (1.1.5)\n",
            "Requirement already satisfied: numpy>=1.15 in /usr/local/lib/python3.7/dist-packages (from yfinance) (1.19.5)\n",
            "Requirement already satisfied: requests>=2.20 in /usr/local/lib/python3.7/dist-packages (from yfinance) (2.23.0)\n",
            "Requirement already satisfied: multitasking>=0.0.7 in /usr/local/lib/python3.7/dist-packages (from yfinance) (0.0.9)\n",
            "Collecting lxml>=4.5.1\n",
            "\u001b[?25l  Downloading https://files.pythonhosted.org/packages/cf/4d/6537313bf58fe22b508f08cf3eb86b29b6f9edf68e00454224539421073b/lxml-4.6.3-cp37-cp37m-manylinux1_x86_64.whl (5.5MB)\n",
            "\u001b[K     |████████████████████████████████| 5.5MB 11.1MB/s \n",
            "\u001b[?25hRequirement already satisfied: pytz>=2017.2 in /usr/local/lib/python3.7/dist-packages (from pandas>=0.24->yfinance) (2018.9)\n",
            "Requirement already satisfied: python-dateutil>=2.7.3 in /usr/local/lib/python3.7/dist-packages (from pandas>=0.24->yfinance) (2.8.1)\n",
            "Requirement already satisfied: certifi>=2017.4.17 in /usr/local/lib/python3.7/dist-packages (from requests>=2.20->yfinance) (2020.12.5)\n",
            "Requirement already satisfied: urllib3!=1.25.0,!=1.25.1,<1.26,>=1.21.1 in /usr/local/lib/python3.7/dist-packages (from requests>=2.20->yfinance) (1.24.3)\n",
            "Requirement already satisfied: idna<3,>=2.5 in /usr/local/lib/python3.7/dist-packages (from requests>=2.20->yfinance) (2.10)\n",
            "Requirement already satisfied: chardet<4,>=3.0.2 in /usr/local/lib/python3.7/dist-packages (from requests>=2.20->yfinance) (3.0.4)\n",
            "Requirement already satisfied: six>=1.5 in /usr/local/lib/python3.7/dist-packages (from python-dateutil>=2.7.3->pandas>=0.24->yfinance) (1.15.0)\n",
            "Building wheels for collected packages: yfinance\n",
            "  Building wheel for yfinance (setup.py) ... \u001b[?25l\u001b[?25hdone\n",
            "  Created wheel for yfinance: filename=yfinance-0.1.59-py2.py3-none-any.whl size=23442 sha256=ecc7e06503f444a880d9944b8e45a2b4d62e8e6908376beeed14fbb2caf8b7ff\n",
            "  Stored in directory: /root/.cache/pip/wheels/f8/2a/0f/4b5a86e1d52e451757eb6bc17fd899629f0925c777741b6d04\n",
            "Successfully built yfinance\n",
            "Installing collected packages: lxml, yfinance\n",
            "  Found existing installation: lxml 4.2.6\n",
            "    Uninstalling lxml-4.2.6:\n",
            "      Successfully uninstalled lxml-4.2.6\n",
            "Successfully installed lxml-4.6.3 yfinance-0.1.59\n",
            "Requirement already satisfied: matplotlib in /usr/local/lib/python3.7/dist-packages (3.2.2)\n",
            "Requirement already satisfied: python-dateutil>=2.1 in /usr/local/lib/python3.7/dist-packages (from matplotlib) (2.8.1)\n",
            "Requirement already satisfied: cycler>=0.10 in /usr/local/lib/python3.7/dist-packages (from matplotlib) (0.10.0)\n",
            "Requirement already satisfied: pyparsing!=2.0.4,!=2.1.2,!=2.1.6,>=2.0.1 in /usr/local/lib/python3.7/dist-packages (from matplotlib) (2.4.7)\n",
            "Requirement already satisfied: kiwisolver>=1.0.1 in /usr/local/lib/python3.7/dist-packages (from matplotlib) (1.3.1)\n",
            "Requirement already satisfied: numpy>=1.11 in /usr/local/lib/python3.7/dist-packages (from matplotlib) (1.19.5)\n",
            "Requirement already satisfied: six>=1.5 in /usr/local/lib/python3.7/dist-packages (from python-dateutil>=2.1->matplotlib) (1.15.0)\n"
          ],
          "name": "stdout"
        }
      ]
    },
    {
      "cell_type": "code",
      "metadata": {
        "id": "6MYvltPl9IUl"
      },
      "source": [
        "# Importing Packages \n",
        "\n",
        "import numpy as np \n",
        "import pandas as pd \n",
        "import yfinance as yf \n",
        "import matplotlib.pyplot as plt "
      ],
      "execution_count": null,
      "outputs": []
    },
    {
      "cell_type": "code",
      "metadata": {
        "id": "OuwogqK8-8wb",
        "colab": {
          "base_uri": "https://localhost:8080/",
          "height": 333
        },
        "outputId": "637dc598-acf8-491a-c1d5-ff30afc6ab43"
      },
      "source": [
        "# Downloading stock data \n",
        "\n",
        "stock = 'KO'\n",
        "data = yf.download(stock, '2016-01-01', '2021-03-21')\n",
        "\n",
        "# Specifying strategy parameters \n",
        "\n",
        "rsi_period = 14 \n",
        "rsi_oversold = 30 \n",
        "rsi_overbought = 70 \n",
        "fee = 0.0005\n",
        "\n",
        "# Technical Analysis Signals \n",
        "\n",
        "data['returns'] = data['Close'].pct_change()\n",
        "\n",
        "data['Up'] = np.maximum(data['Close'].diff(), 0)\n",
        "\n",
        "data['Down'] = np.maximum(-data['Close'].diff(), 0)\n",
        "\n",
        "data['RS'] = data['Up'].rolling(rsi_period).mean()/data['Down'].rolling(rsi_period).mean()\n",
        "\n",
        "data['RSI'] = 100 - 100/(1 + data['RS'])\n",
        "\n",
        "# Simulating Trading Strategies \n",
        "\n",
        "start = rsi_period \n",
        "\n",
        "data['signal'] = 1*(data['RSI'] < rsi_oversold) - 1*(data['RSI'] > rsi_overbought)\n",
        "\n",
        "BnH_return = np.array(data['returns'][start + 1:])\n",
        "\n",
        "RSI_return = np.array(data['returns'][start + 1:])*np.array(data['signal'][start:-1]) - fee*abs(np.array(data['signal'][start+1:]) - np.array(data['signal'][start:-1]))\n",
        "\n",
        "BnH = np.prod(1+BnH_return)**(252/len(BnH_return)) - 1\n",
        "\n",
        "RSI = np.prod(1+RSI_return)**(252/len(RSI_return)) - 1\n",
        "\n",
        "BnH_risk = np.std(BnH_return)*(252)**(1/2)\n",
        "\n",
        "RSI_risk = np.std(RSI_return)*(252)**(1/2)\n",
        "\n",
        "# Visualizing the results \n",
        "\n",
        "print('Buy and Hold strategy return and risk: ' + str(round(BnH * 100,2)) + '% and ' + str(round(BnH_risk*100,2)) + '%')\n",
        "\n",
        "print('RSI strategy return and risk: ' + str(round(RSI * 100,2)) + '% and ' + str(round(RSI_risk*100,2)) + '%')\n",
        "\n",
        "plt.plot(np.append(1, np.cumprod(1+BnH_return)))\n",
        "\n",
        "plt.plot(np.append(1, np.cumprod(1+RSI_return)))"
      ],
      "execution_count": null,
      "outputs": [
        {
          "output_type": "stream",
          "text": [
            "\r[*********************100%***********************]  1 of 1 completed\n",
            "Buy and Hold strategy return and risk: 3.69% and 20.12%\n",
            "RSI strategy return and risk: 12.87% and 9.5%\n"
          ],
          "name": "stdout"
        },
        {
          "output_type": "execute_result",
          "data": {
            "text/plain": [
              "[<matplotlib.lines.Line2D at 0x7f1b8268ac90>]"
            ]
          },
          "metadata": {
            "tags": []
          },
          "execution_count": 6
        },
        {
          "output_type": "display_data",
          "data": {
            "image/png": "[encoded data removed]",
            "text/plain": [
              "<Figure size 432x288 with 1 Axes>"
            ]
          },
          "metadata": {
            "tags": [],
            "needs_background": "light"
          }
        }
      ]
    }
  ]
}
